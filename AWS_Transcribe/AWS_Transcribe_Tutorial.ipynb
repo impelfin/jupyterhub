{
 "cells": [
  {
   "cell_type": "markdown",
   "metadata": {
    "id": "rFjA_HIurMwL"
   },
   "source": [
    "### **Import packages**"
   ]
  },
  {
   "cell_type": "code",
   "execution_count": 2,
   "metadata": {
    "colab": {
     "base_uri": "https://localhost:8080/"
    },
    "executionInfo": {
     "elapsed": 24192,
     "status": "ok",
     "timestamp": 1690269263868,
     "user": {
      "displayName": "Jun-Hyeon Mun",
      "userId": "02621885432948230701"
     },
     "user_tz": -540
    },
    "id": "ToJdrttfq5AM",
    "outputId": "23d95a0e-5607-4efe-ccd4-ef6554472863"
   },
   "outputs": [
    {
     "name": "stdout",
     "output_type": "stream",
     "text": [
      "Collecting boto3\n",
      "  Downloading boto3-1.28.10-py3-none-any.whl (135 kB)\n",
      "\u001b[2K     \u001b[90m━━━━━━━━━━━━━━━━━━━━━━━━━━━━━━━━━━━━━━━\u001b[0m \u001b[32m135.8/135.8 kB\u001b[0m \u001b[31m2.0 MB/s\u001b[0m eta \u001b[36m0:00:00\u001b[0m\n",
      "\u001b[?25hCollecting botocore<1.32.0,>=1.31.10 (from boto3)\n",
      "  Downloading botocore-1.31.10-py3-none-any.whl (11.0 MB)\n",
      "\u001b[2K     \u001b[90m━━━━━━━━━━━━━━━━━━━━━━━━━━━━━━━━━━━━━━━━\u001b[0m \u001b[32m11.0/11.0 MB\u001b[0m \u001b[31m19.4 MB/s\u001b[0m eta \u001b[36m0:00:00\u001b[0m\n",
      "\u001b[?25hCollecting jmespath<2.0.0,>=0.7.1 (from boto3)\n",
      "  Downloading jmespath-1.0.1-py3-none-any.whl (20 kB)\n",
      "Collecting s3transfer<0.7.0,>=0.6.0 (from boto3)\n",
      "  Downloading s3transfer-0.6.1-py3-none-any.whl (79 kB)\n",
      "\u001b[2K     \u001b[90m━━━━━━━━━━━━━━━━━━━━━━━━━━━━━━━━━━━━━━━━\u001b[0m \u001b[32m79.8/79.8 kB\u001b[0m \u001b[31m5.4 MB/s\u001b[0m eta \u001b[36m0:00:00\u001b[0m\n",
      "\u001b[?25hRequirement already satisfied: python-dateutil<3.0.0,>=2.1 in /usr/local/lib/python3.10/dist-packages (from botocore<1.32.0,>=1.31.10->boto3) (2.8.2)\n",
      "Requirement already satisfied: urllib3<1.27,>=1.25.4 in /usr/local/lib/python3.10/dist-packages (from botocore<1.32.0,>=1.31.10->boto3) (1.26.16)\n",
      "Requirement already satisfied: six>=1.5 in /usr/local/lib/python3.10/dist-packages (from python-dateutil<3.0.0,>=2.1->botocore<1.32.0,>=1.31.10->boto3) (1.16.0)\n",
      "Installing collected packages: jmespath, botocore, s3transfer, boto3\n",
      "Successfully installed boto3-1.28.10 botocore-1.31.10 jmespath-1.0.1 s3transfer-0.6.1\n"
     ]
    }
   ],
   "source": [
    "!pip install boto3\n",
    "\n",
    "import pandas as pd\n",
    "import time\n",
    "import boto3"
   ]
  },
  {
   "cell_type": "code",
   "execution_count": 2,
   "metadata": {
    "executionInfo": {
     "elapsed": 3,
     "status": "ok",
     "timestamp": 1690269267590,
     "user": {
      "displayName": "Jun-Hyeon Mun",
      "userId": "02621885432948230701"
     },
     "user_tz": -540
    },
    "id": "NllJa_Vauvpu"
   },
   "outputs": [],
   "source": []
  },
  {
   "cell_type": "markdown",
   "metadata": {
    "id": "YrP_t1j5rdix"
   },
   "source": [
    "### **Initialize the job**"
   ]
  },
  {
   "cell_type": "code",
   "execution_count": 3,
   "metadata": {
    "executionInfo": {
     "elapsed": 339,
     "status": "ok",
     "timestamp": 1690269271796,
     "user": {
      "displayName": "Jun-Hyeon Mun",
      "userId": "02621885432948230701"
     },
     "user_tz": -540
    },
    "id": "NdFwDLMeq51T"
   },
   "outputs": [],
   "source": [
    "transcribe = boto3.client('transcribe',\n",
    "                          aws_access_key_id = 'AK',\n",
    "                          aws_secret_access_key = 'h3,\n",
    "                          region_name = 'ap-northeast-2'\n",
    ")"
   ]
  },
  {
   "cell_type": "code",
   "execution_count": 4,
   "metadata": {
    "executionInfo": {
     "elapsed": 350,
     "status": "ok",
     "timestamp": 1690269277006,
     "user": {
      "displayName": "Jun-Hyeon Mun",
      "userId": "02621885432948230701"
     },
     "user_tz": -540
    },
    "id": "RNfgzRWvrwBq"
   },
   "outputs": [],
   "source": [
    "def check_job_name(job_name):\n",
    "  job_verification = True\n",
    "\n",
    "  # all the transcriptions\n",
    "  existed_jobs = transcribe.list_transcription_jobs()\n",
    "\n",
    "  for job in existed_jobs['TranscriptionJobSummaries']:\n",
    "    if job_name == job['TranscriptionJobName']:\n",
    "      job_verification = False\n",
    "      break\n",
    "\n",
    "  if job_verification == False:\n",
    "    command = input(job_name + \" has existed. \\nDo you want to override the existed job (Y/N): \")\n",
    "    if command.lower() == \"y\" or command.lower() == \"yes\":\n",
    "      transcribe.delete_transcription_job(TranscriptionJobName=job_name)\n",
    "    elif command.lower() == \"n\" or command.lower() == \"no\":\n",
    "      job_name = input(\"Insert new job name? \")\n",
    "      check_job_name(job_name)\n",
    "    else:\n",
    "      print(\"Input can only be (Y/N)\")\n",
    "      command = input(job_name + \" has existed. \\nDo you want to override the existed job (Y/N): \")\n",
    "  return job_name"
   ]
  },
  {
   "cell_type": "code",
   "execution_count": 4,
   "metadata": {
    "executionInfo": {
     "elapsed": 329,
     "status": "ok",
     "timestamp": 1690269280479,
     "user": {
      "displayName": "Jun-Hyeon Mun",
      "userId": "02621885432948230701"
     },
     "user_tz": -540
    },
    "id": "BerOkh70uwLz"
   },
   "outputs": [],
   "source": []
  },
  {
   "cell_type": "markdown",
   "metadata": {
    "id": "76bmU9eSr0WH"
   },
   "source": [
    "#### **For Single Speaker files**"
   ]
  },
  {
   "cell_type": "code",
   "execution_count": 83,
   "metadata": {
    "executionInfo": {
     "elapsed": 291,
     "status": "ok",
     "timestamp": 1690272539795,
     "user": {
      "displayName": "Jun-Hyeon Mun",
      "userId": "02621885432948230701"
     },
     "user_tz": -540
    },
    "id": "CEtocAOJrv-u"
   },
   "outputs": [],
   "source": [
    "def amazon_transcribe(audio_file_name):\n",
    "  job_uri = 'https://lunar-2075.s3.ap-northeast-2.amazonaws.com/aws_test_tts.mp3'\n",
    "  # Usually, I put like this to automate the process with the file name\n",
    "  # \"s3://bucket_name\" + audio_file_name\n",
    "\n",
    "  # Usually, file names have spaces and have the file extension like .mp3\n",
    "  # we take only a file name and delete all the space to name the job\n",
    "  job_name = (audio_file_name.split('.')[0]).replace(\" \", \"\")\n",
    "\n",
    "  # file format\n",
    "  file_format = audio_file_name.split('.')[1]\n",
    "\n",
    "  # check if name is taken or not\n",
    "  job_name = check_job_name(job_name)\n",
    "  transcribe.start_transcription_job(\n",
    "      TranscriptionJobName=job_name,\n",
    "      Media={'MediaFileUri': job_uri},\n",
    "      MediaFormat = file_format,\n",
    "      LanguageCode='ko-KR')\n",
    "\n",
    "  while True:\n",
    "    result = transcribe.get_transcription_job(TranscriptionJobName=job_name)\n",
    "    if result['TranscriptionJob']['TranscriptionJobStatus'] in ['COMPLETED', 'FAILED']:\n",
    "      print(\"FAILED\")\n",
    "      break\n",
    "    time.sleep(15)\n",
    "\n",
    "  if result['TranscriptionJob']['TranscriptionJobStatus'] == \"COMPLETED\":\n",
    "    data = pd.read_json(result['TranscriptionJob']['Transcript']['TranscriptFileUri'])\n",
    "\n",
    "  return data['results'][1][0]['transcript']"
   ]
  },
  {
   "cell_type": "code",
   "execution_count": 5,
   "metadata": {
    "executionInfo": {
     "elapsed": 3,
     "status": "ok",
     "timestamp": 1690269289965,
     "user": {
      "displayName": "Jun-Hyeon Mun",
      "userId": "02621885432948230701"
     },
     "user_tz": -540
    },
    "id": "hrDmtNbJuw5C"
   },
   "outputs": [],
   "source": []
  },
  {
   "cell_type": "markdown",
   "metadata": {
    "id": "AEirfSA1thNl"
   },
   "source": [
    "#### **For Multiple Speakers files**"
   ]
  },
  {
   "cell_type": "code",
   "execution_count": 79,
   "metadata": {
    "executionInfo": {
     "elapsed": 446,
     "status": "ok",
     "timestamp": 1690272142270,
     "user": {
      "displayName": "Jun-Hyeon Mun",
      "userId": "02621885432948230701"
     },
     "user_tz": -540
    },
    "id": "LD-kjcNorwHK"
   },
   "outputs": [],
   "source": [
    "def amazon_transcribe(audio_file_name, max_speakers = -1):\n",
    "\n",
    "  if max_speakers > 10:\n",
    "    raise ValueError(\"Maximum detected speakers is 10.\")\n",
    "\n",
    "  job_uri = \"s3 bucket link\" + audio_file_name\n",
    "  job_name = (audio_file_name.split('.')[0]).replace(\" \", \"\")\n",
    "\n",
    "  # check if name is taken or not\n",
    "  job_name = check_job_name(job_name)\n",
    "\n",
    "  if max_speakers != -1:\n",
    "    transcribe.start_transcription_job(\n",
    "        TranscriptionJobName=job_name,\n",
    "        Media={'MediaFileUri': job_uri},\n",
    "        MediaFormat=audio_file_name.split('.')[1],\n",
    "        LanguageCode='ko-KR',\n",
    "        Settings = {'ShowSpeakerLabels': True,\n",
    "                  'MaxSpeakerLabels': max_speakers\n",
    "                  }\n",
    "    )\n",
    "  else:\n",
    "    transcribe.start_transcription_job(\n",
    "        TranscriptionJobName=job_name,\n",
    "        Media={'MediaFileUri': job_uri},\n",
    "        MediaFormat=audio_file_name.split('.')[1],\n",
    "        LanguageCode='ko-KR',\n",
    "        Settings = {'ShowSpeakerLabels': True\n",
    "                  }\n",
    "    )\n",
    "\n",
    "  while True:\n",
    "    result = transcribe.get_transcription_job(TranscriptionJobName=job_name)\n",
    "    if result['TranscriptionJob']['TranscriptionJobStatus'] in ['COMPLETED', 'FAILED']:\n",
    "        break\n",
    "    time.sleep(15)\n",
    "  if result['TranscriptionJob']['TranscriptionJobStatus'] == 'COMPLETED':\n",
    "    data = pd.read_json(result['TranscriptionJob']['Transcript']['TranscriptFileUri'])\n",
    "  return result"
   ]
  },
  {
   "cell_type": "code",
   "execution_count": 6,
   "metadata": {
    "executionInfo": {
     "elapsed": 320,
     "status": "ok",
     "timestamp": 1690269308434,
     "user": {
      "displayName": "Jun-Hyeon Mun",
      "userId": "02621885432948230701"
     },
     "user_tz": -540
    },
    "id": "RjG_nIOBrwFd"
   },
   "outputs": [],
   "source": []
  },
  {
   "cell_type": "markdown",
   "metadata": {
    "id": "XO5NWgG-t1zc"
   },
   "source": [
    "#### **Read the json files**"
   ]
  },
  {
   "cell_type": "code",
   "execution_count": 74,
   "metadata": {
    "colab": {
     "base_uri": "https://localhost:8080/"
    },
    "executionInfo": {
     "elapsed": 2490,
     "status": "ok",
     "timestamp": 1690272058008,
     "user": {
      "displayName": "Jun-Hyeon Mun",
      "userId": "02621885432948230701"
     },
     "user_tz": -540
    },
    "id": "9erCddjnY79J",
    "outputId": "fd8a93c6-d3a7-4ecf-f41b-af4784442c3e"
   },
   "outputs": [
    {
     "name": "stdout",
     "output_type": "stream",
     "text": [
      "Drive already mounted at /content/drive/; to attempt to forcibly remount, call drive.mount(\"/content/drive/\", force_remount=True).\n"
     ]
    }
   ],
   "source": [
    "from google.colab import drive\n",
    "import sys\n",
    "import os\n",
    "\n",
    "drive.mount('/content/drive/')\n",
    "sys.path.append(\"/content/drive/MyDrive/Colab Notebooks/AWS Transcribe reader\")\n",
    "os.chdir(\"/content/drive/MyDrive/Colab Notebooks/AWS Transcribe reader\")"
   ]
  },
  {
   "cell_type": "code",
   "execution_count": 80,
   "metadata": {
    "executionInfo": {
     "elapsed": 432,
     "status": "ok",
     "timestamp": 1690272146267,
     "user": {
      "displayName": "Jun-Hyeon Mun",
      "userId": "02621885432948230701"
     },
     "user_tz": -540
    },
    "id": "9YJDKplhaa4b"
   },
   "outputs": [],
   "source": [
    "import json\n",
    "import datetime\n",
    "import time as ptime\n",
    "\n",
    "def read_output(filename):\n",
    "  # example filename: audio.json\n",
    "\n",
    "  # take the input as the filename\n",
    "\n",
    "  filename = (filename).split('.')[0]\n",
    "\n",
    "  # Create an output txt file\n",
    "  print(filename+'.txt')\n",
    "  with open(filename+'.txt','w') as w:\n",
    "    with open(filename+'.json') as f:\n",
    "\n",
    "      data=json.loads(f.read())\n",
    "      labels = data['results']['speaker_labels']['segments']\n",
    "      speaker_start_times={}\n",
    "\n",
    "      for label in labels:\n",
    "        for item in label['items']:\n",
    "          speaker_start_times[item['start_time']] = item['speaker_label']\n",
    "\n",
    "      items = data['results']['items']\n",
    "      lines = []\n",
    "      line = ''\n",
    "      time = 0\n",
    "      speaker = 'null'\n",
    "      i = 0\n",
    "\n",
    "      # loop through all elements\n",
    "      for item in items:\n",
    "        i = i+1\n",
    "        content = item['alternatives'][0]['content']\n",
    "\n",
    "        # if it's starting time\n",
    "        if item.get('start_time'):\n",
    "          current_speaker = speaker_start_times[item['start_time']]\n",
    "\n",
    "        # in AWS output, there are types as punctuation\n",
    "        elif item['type'] == 'punctuation':\n",
    "          line = line + content\n",
    "\n",
    "        # handle different speaker\n",
    "        if current_speaker != speaker:\n",
    "          if speaker:\n",
    "            lines.append({'speaker':speaker, 'line':line, 'time':time})\n",
    "          line = content\n",
    "          speaker = current_speaker\n",
    "          time = item['start_time']\n",
    "\n",
    "        elif item['type'] != 'punctuation':\n",
    "          line = line + ' ' + content\n",
    "      lines.append({'speaker': speaker, 'line': line,'time': time})\n",
    "\n",
    "      # sort the results by the time\n",
    "      sorted_lines = sorted(lines,key=lambda k: float(k['time']))\n",
    "\n",
    "      # write into the .txt file\n",
    "      for line_data in sorted_lines:\n",
    "        line = '[' + str(datetime.timedelta(seconds=int(round(float(line_data['time']))))) + '] ' + line_data.get('speaker') + ': ' + line_data.get('line')\n",
    "        w.write(line + '\\n\\n')"
   ]
  },
  {
   "cell_type": "code",
   "execution_count": 69,
   "metadata": {
    "executionInfo": {
     "elapsed": 321,
     "status": "ok",
     "timestamp": 1690271908531,
     "user": {
      "displayName": "Jun-Hyeon Mun",
      "userId": "02621885432948230701"
     },
     "user_tz": -540
    },
    "id": "xn74j9QoabGa"
   },
   "outputs": [],
   "source": []
  },
  {
   "cell_type": "markdown",
   "metadata": {
    "id": "8oXM0ZKVka1S"
   },
   "source": [
    "#### **Upload files to S3 storage**"
   ]
  },
  {
   "cell_type": "code",
   "execution_count": 81,
   "metadata": {
    "executionInfo": {
     "elapsed": 1512,
     "status": "ok",
     "timestamp": 1690272152783,
     "user": {
      "displayName": "Jun-Hyeon Mun",
      "userId": "02621885432948230701"
     },
     "user_tz": -540
    },
    "id": "9ndhroaska7f"
   },
   "outputs": [],
   "source": [
    "# define AWS_ACCESS_KEY_ID, AWS_SECRET_ACCESS_KEY, and bucket_name\n",
    "# bucket_name: name of s3 storage folder\n",
    "s3 = boto3.client('s3',\n",
    "aws_access_key_id = 'AK',\n",
    "aws_secret_access_key = 'h3',\n",
    "region_name = \"ap-northeast-2\")\n",
    "file_name = \"aws_test_tts.mp3\"\n",
    "bucket_name = \"lunar-2075\"\n",
    "s3.upload_file(file_name, bucket_name, file_name)"
   ]
  },
  {
   "cell_type": "code",
   "execution_count": null,
   "metadata": {
    "id": "U06rTyGNl6Ij"
   },
   "outputs": [],
   "source": []
  },
  {
   "cell_type": "markdown",
   "metadata": {
    "id": "aHdwmM29kQte"
   },
   "source": [
    "#### **Add custom vocabulary**"
   ]
  },
  {
   "cell_type": "code",
   "execution_count": 84,
   "metadata": {
    "colab": {
     "base_uri": "https://localhost:8080/"
    },
    "executionInfo": {
     "elapsed": 838,
     "status": "ok",
     "timestamp": 1690272588657,
     "user": {
      "displayName": "Jun-Hyeon Mun",
      "userId": "02621885432948230701"
     },
     "user_tz": -540
    },
    "id": "OyO3djThu-h8",
    "outputId": "159c211a-77d3-4543-dc88-d1fe6aa7aa2c"
   },
   "outputs": [
    {
     "data": {
      "text/plain": [
       "{'Vocabularies': [],\n",
       " 'ResponseMetadata': {'RequestId': '99b61180-22e3-4bee-a04d-4e85029c0fbc',\n",
       "  'HTTPStatusCode': 200,\n",
       "  'HTTPHeaders': {'x-amzn-requestid': '99b61180-22e3-4bee-a04d-4e85029c0fbc',\n",
       "   'content-type': 'application/x-amz-json-1.1',\n",
       "   'content-length': '19',\n",
       "   'date': 'Tue, 25 Jul 2023 08:09:47 GMT'},\n",
       "  'RetryAttempts': 0}}"
      ]
     },
     "execution_count": 84,
     "metadata": {},
     "output_type": "execute_result"
    }
   ],
   "source": [
    "def vocab_name(custom_name):\n",
    "  vocab = pd.DataFrame([['Los-Angeles', np.nan, np.nan, \"Los Angeles\"], [\"F.B.I.\", \"ɛ f b i aɪ\", np.nan, \"FBI\"], [\"Etienne\", np.nan, \"eh-tee-en\", np.nan]], columns=['Phrase', 'IPA', 'SoundsLike', 'DisplayAs'])\n",
    "  vocab.to_csv(custom_name+'.csv', header=True, index=None, sep='\\t')\n",
    "\n",
    "  import csv\n",
    "  import time\n",
    "\n",
    "  csv_file = 'custom_name+'.csv\n",
    "  txt_file = 'custom_name+'.txt\n",
    "\n",
    "  with open(txt_file, \"w\") as my_output_file:\n",
    "    with open(csv_file, \"r\") as my_input_file:\n",
    "      my_output_file.write(\" \".join(row)+'\\n')\n",
    "      for row in csv.reader(my_input_file):\n",
    "        my_output_file.close()\n",
    "  ptime.sleep(30) # wait for the file to finish\n",
    "  bucket_name = 'lunar-2075'\n",
    "  s3.upload_file(txt_file, bucket_name, txt_file)\n",
    "  ptime.sleep(60)\n",
    "  response = transcribe.create_vocabulary(\n",
    "    VocabularyName = custom_name,\n",
    "    LanguageCode='en-US',\n",
    "    VocabularyFileUri = \"https://lunar-2075.s3.ap-northeast-2.amazonaws.com/\" + txt_file)\n",
    "# the link usually is bucketname.region.amazonaws.com\n",
    "# after running vocab_name, we can check the status through this line\n",
    "# if it's ready, the VocabularyState will be 'READY'\n",
    "\n",
    "transcribe.list_vocabularies()\n"
   ]
  },
  {
   "cell_type": "code",
   "execution_count": null,
   "metadata": {
    "id": "rTjccyT_FSRj"
   },
   "outputs": [],
   "source": []
  }
 ],
 "metadata": {
  "colab": {
   "provenance": [
    {
     "file_id": "1oaS1dOj5kkzx9Q8YRZd54AGHzrQEqg_9",
     "timestamp": 1690268799905
    }
   ]
  },
  "kernelspec": {
   "display_name": "Python 3",
   "name": "python3"
  }
 },
 "nbformat": 4,
 "nbformat_minor": 0
}
