{
 "cells": [
  {
   "cell_type": "code",
   "execution_count": null,
   "metadata": {
    "colab": {
     "base_uri": "https://localhost:8080/"
    },
    "executionInfo": {
     "elapsed": 11909,
     "status": "ok",
     "timestamp": 1690273379178,
     "user": {
      "displayName": "Jun-Hyeon Mun",
      "userId": "02621885432948230701"
     },
     "user_tz": -540
    },
    "id": "_WTgRWgVHHJJ",
    "outputId": "dfcc821c-0985-4878-b0a8-43d6d6a91631"
   },
   "outputs": [
    {
     "name": "stdout",
     "output_type": "stream",
     "text": [
      "Requirement already satisfied: openai in /usr/local/lib/python3.10/dist-packages (0.27.8)\n",
      "Requirement already satisfied: requests>=2.20 in /usr/local/lib/python3.10/dist-packages (from openai) (2.27.1)\n",
      "Requirement already satisfied: tqdm in /usr/local/lib/python3.10/dist-packages (from openai) (4.65.0)\n",
      "Requirement already satisfied: aiohttp in /usr/local/lib/python3.10/dist-packages (from openai) (3.8.4)\n",
      "Requirement already satisfied: urllib3<1.27,>=1.21.1 in /usr/local/lib/python3.10/dist-packages (from requests>=2.20->openai) (1.26.16)\n",
      "Requirement already satisfied: certifi>=2017.4.17 in /usr/local/lib/python3.10/dist-packages (from requests>=2.20->openai) (2023.5.7)\n",
      "Requirement already satisfied: charset-normalizer~=2.0.0 in /usr/local/lib/python3.10/dist-packages (from requests>=2.20->openai) (2.0.12)\n",
      "Requirement already satisfied: idna<4,>=2.5 in /usr/local/lib/python3.10/dist-packages (from requests>=2.20->openai) (3.4)\n",
      "Requirement already satisfied: attrs>=17.3.0 in /usr/local/lib/python3.10/dist-packages (from aiohttp->openai) (23.1.0)\n",
      "Requirement already satisfied: multidict<7.0,>=4.5 in /usr/local/lib/python3.10/dist-packages (from aiohttp->openai) (6.0.4)\n",
      "Requirement already satisfied: async-timeout<5.0,>=4.0.0a3 in /usr/local/lib/python3.10/dist-packages (from aiohttp->openai) (4.0.2)\n",
      "Requirement already satisfied: yarl<2.0,>=1.0 in /usr/local/lib/python3.10/dist-packages (from aiohttp->openai) (1.9.2)\n",
      "Requirement already satisfied: frozenlist>=1.1.1 in /usr/local/lib/python3.10/dist-packages (from aiohttp->openai) (1.4.0)\n",
      "Requirement already satisfied: aiosignal>=1.1.2 in /usr/local/lib/python3.10/dist-packages (from aiohttp->openai) (1.3.1)\n",
      "Collecting boto3\n",
      "  Downloading boto3-1.28.10-py3-none-any.whl (135 kB)\n",
      "\u001b[2K     \u001b[90m━━━━━━━━━━━━━━━━━━━━━━━━━━━━━━━━━━━━━━━\u001b[0m \u001b[32m135.8/135.8 kB\u001b[0m \u001b[31m4.5 MB/s\u001b[0m eta \u001b[36m0:00:00\u001b[0m\n",
      "\u001b[?25hCollecting botocore<1.32.0,>=1.31.10 (from boto3)\n",
      "  Downloading botocore-1.31.10-py3-none-any.whl (11.0 MB)\n",
      "\u001b[2K     \u001b[90m━━━━━━━━━━━━━━━━━━━━━━━━━━━━━━━━━━━━━━━━\u001b[0m \u001b[32m11.0/11.0 MB\u001b[0m \u001b[31m74.4 MB/s\u001b[0m eta \u001b[36m0:00:00\u001b[0m\n",
      "\u001b[?25hCollecting jmespath<2.0.0,>=0.7.1 (from boto3)\n",
      "  Downloading jmespath-1.0.1-py3-none-any.whl (20 kB)\n",
      "Collecting s3transfer<0.7.0,>=0.6.0 (from boto3)\n",
      "  Downloading s3transfer-0.6.1-py3-none-any.whl (79 kB)\n",
      "\u001b[2K     \u001b[90m━━━━━━━━━━━━━━━━━━━━━━━━━━━━━━━━━━━━━━━━\u001b[0m \u001b[32m79.8/79.8 kB\u001b[0m \u001b[31m9.0 MB/s\u001b[0m eta \u001b[36m0:00:00\u001b[0m\n",
      "\u001b[?25hRequirement already satisfied: python-dateutil<3.0.0,>=2.1 in /usr/local/lib/python3.10/dist-packages (from botocore<1.32.0,>=1.31.10->boto3) (2.8.2)\n",
      "Requirement already satisfied: urllib3<1.27,>=1.25.4 in /usr/local/lib/python3.10/dist-packages (from botocore<1.32.0,>=1.31.10->boto3) (1.26.16)\n",
      "Requirement already satisfied: six>=1.5 in /usr/local/lib/python3.10/dist-packages (from python-dateutil<3.0.0,>=2.1->botocore<1.32.0,>=1.31.10->boto3) (1.16.0)\n",
      "Installing collected packages: jmespath, botocore, s3transfer, boto3\n",
      "Successfully installed boto3-1.28.10 botocore-1.31.10 jmespath-1.0.1 s3transfer-0.6.1\n"
     ]
    }
   ],
   "source": [
    "!pip install openai\n",
    "!pip install boto3"
   ]
  },
  {
   "cell_type": "code",
   "execution_count": null,
   "metadata": {
    "colab": {
     "base_uri": "https://localhost:8080/"
    },
    "executionInfo": {
     "elapsed": 133455,
     "status": "ok",
     "timestamp": 1690277119868,
     "user": {
      "displayName": "Jun-Hyeon Mun",
      "userId": "02621885432948230701"
     },
     "user_tz": -540
    },
    "id": "04ta-EH1HXGb",
    "outputId": "101ff32f-6455-4d09-edd3-7248999240aa"
   },
   "outputs": [
    {
     "name": "stdout",
     "output_type": "stream",
     "text": [
      "You: 안녕\n",
      "GPT-3.5: 하세요\n",
      "+\n",
      "+ 문제해결 리눅스 과정을 수강하고 있는 김민정 입니다.\n",
      "+\n",
      "+리눅스는 새로\n",
      "You: 김민정?\n",
      "GPT-3.5: 김민정은 대한민국의 시나리오가입니다. 1999년 문학과 극작가로 박사학위를 취득하였\n",
      "You: What is your return policy?\n",
      "FAQ Bot: Our return policy lasts 30 days from the date of purchase...\n",
      "You: How do I track my order?\n",
      "FAQ Bot: Once your order is shipped, you will receive a tracking link...\n",
      "You: 여행 예약 해줘\n",
      "GPT-3.5: 저희 사이트는 여행 예약 사이트입니다. 여행 예약을 하고 싶으시다면 먼저 고객 등록을\n",
      "You: exit\n"
     ]
    }
   ],
   "source": [
    "import openai\n",
    "import os\n",
    "import sys\n",
    "from boto3 import client\n",
    "\n",
    "# OpenAI API key setup\n",
    "# api_key = \"sk-\"\n",
    "openai.api_key = api_key\n",
    "\n",
    "# FAQ data\n",
    "faq_data = [\n",
    "    {\n",
    "        \"question\": \"What is your return policy?\",\n",
    "        \"answer\": \"Our return policy lasts 30 days from the date of purchase...\"\n",
    "    },\n",
    "    {\n",
    "        \"question\": \"How do I track my order?\",\n",
    "        \"answer\": \"Once your order is shipped, you will receive a tracking link...\"\n",
    "    },\n",
    "    # Add more FAQ questions and answers here.\n",
    "]\n",
    "\n",
    "def get_gpt_answer(question):\n",
    "    # Use GPT-3.5 API to generate an answer for all questions\n",
    "    response = openai.Completion.create(\n",
    "        engine=\"text-davinci-003\",\n",
    "        prompt=question,\n",
    "        max_tokens=100\n",
    "    )\n",
    "    return response.choices[0].text.strip()\n",
    "\n",
    "# Main loop to receive user input and provide answers\n",
    "while True:\n",
    "    user_input = input(\"You: \")\n",
    "    if user_input.lower() in [\"exit\", \"quit\"]:\n",
    "        break\n",
    "\n",
    "    # Check if the user's question matches any FAQ question\n",
    "    faq_answer = next((faq[\"answer\"] for faq in faq_data if faq[\"question\"].lower() == user_input.lower()), None)\n",
    "\n",
    "    if faq_answer:\n",
    "        print(\"FAQ Bot:\", faq_answer)\n",
    "    else:\n",
    "        # If the question is not in the FAQ data, use GPT-3.5 for the answer\n",
    "        gpt_answer = get_gpt_answer(user_input)\n",
    "        print(\"GPT-3.5:\", gpt_answer)\n"
   ]
  }
 ],
 "metadata": {
  "colab": {
   "authorship_tag": "ABX9TyM1yTpGW7VXOWB9YnG0ERTy",
   "provenance": []
  },
  "kernelspec": {
   "display_name": "Python 3",
   "name": "python3"
  },
  "language_info": {
   "name": "python"
  }
 },
 "nbformat": 4,
 "nbformat_minor": 0
}
